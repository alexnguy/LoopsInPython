{
    "cells": [
        {
            "cell_type": "markdown",
            "metadata": {
                "collapsed": true
            },
            "source": "# Loops in Python"
        },
        {
            "cell_type": "markdown",
            "metadata": {},
            "source": "There are two different types of loops in python, for loops and while loops, I will be explaining the use cases for each one here."
        },
        {
            "cell_type": "code",
            "execution_count": 1,
            "metadata": {},
            "outputs": [
                {
                    "data": {
                        "text/plain": "range(0, 5)"
                    },
                    "execution_count": 1,
                    "metadata": {},
                    "output_type": "execute_result"
                }
            ],
            "source": "# Before we talk about loop-da-loops, lets go over range. It is an ordered list, essentially. \n\nrange(5)"
        },
        {
            "cell_type": "code",
            "execution_count": 2,
            "metadata": {},
            "outputs": [
                {
                    "data": {
                        "text/plain": "range(10, 29)"
                    },
                    "execution_count": 2,
                    "metadata": {},
                    "output_type": "execute_result"
                }
            ],
            "source": "range(10, 29)"
        },
        {
            "cell_type": "code",
            "execution_count": 5,
            "metadata": {},
            "outputs": [
                {
                    "name": "stdout",
                    "output_type": "stream",
                    "text": "1300\n1500\n1700\n0\n1\n2\n3\n4\n5\n6\n7\n8\n9\n"
                }
            ],
            "source": "# for loop executes a code block multiple times\n\nrent_month = [1300, 1500, 1700]\nN = len(rent_month)\n\nfor i in range(N):\n    print(rent_month[i])\n    \n# The code is executed N times, with each time having the value of i increased by 1\n\nfor i in range(0,10):\n    print(i)"
        },
        {
            "cell_type": "code",
            "execution_count": 6,
            "metadata": {},
            "outputs": [
                {
                    "name": "stdout",
                    "output_type": "stream",
                    "text": "1300\n1300\n1300\n"
                }
            ],
            "source": "for rent in rent_month:\n    print(1300)"
        },
        {
            "cell_type": "code",
            "execution_count": 14,
            "metadata": {},
            "outputs": [
                {
                    "name": "stdout",
                    "output_type": "stream",
                    "text": "Before triangle 0 is maroon\nAfter triangle 0 is maroon\nBefore triangle 1 is eggshell\nAfter triangle 1 is eggshell\nBefore triangle 2 is turquoise\nAfter triangle 2 is turquoise\nBefore triangle 3 is royal purple\nAfter triangle 3 is royal purple\n"
                }
            ],
            "source": "# We can change the elements in a list with a loop\n\ntriangles = [\"maroon\", \"eggshell\", \"turquoise\", \"royal purple\"]\n\nfor i in range(0,4):\n    print(\"Before triangle\", i, \"is\", triangles[i])\n    print(\"After triangle\", i, \"is\", triangles[i])\n    "
        },
        {
            "cell_type": "code",
            "execution_count": 17,
            "metadata": {},
            "outputs": [
                {
                    "name": "stdout",
                    "output_type": "stream",
                    "text": "Before triangle 0 is maroon\nAfter triangle 0 is royal purple\n"
                }
            ],
            "source": "triangles = [\"maroon\", \"eggshell\", \"turquoise\", \"royal purple\"]\n\nfor i in range(0,1):\n    print(\"Before triangle\", i, \"is\", triangles[0])\n    print(\"After triangle\", i, \"is\", triangles[3])"
        },
        {
            "cell_type": "code",
            "execution_count": 9,
            "metadata": {},
            "outputs": [
                {
                    "name": "stdout",
                    "output_type": "stream",
                    "text": "0 maroon\n1 eggshell\n2 turquoise\n3 royal purple\n"
                }
            ],
            "source": "# Loop through list and iterate on both index and element value\n\n\ntriangles = [\"maroon\", \"eggshell\", \"turquoise\", \"royal purple\"]\n\nfor i, triangle in enumerate(triangles):\n    print(i,triangle)"
        },
        {
            "cell_type": "code",
            "execution_count": 21,
            "metadata": {},
            "outputs": [
                {
                    "name": "stdout",
                    "output_type": "stream",
                    "text": "1300\n1500\nIt took 2 repeated executions to get out of this loop purgatory.\n"
                }
            ],
            "source": "# While loop are repeated execustions based on a required condition\n\nrent_month = [1300, 1500, 1700]\n\ni = 0\npayment = rent_month[0]\n\nwhile(payment != 1700):\n    print(payment)\n    i = i + 1\n    payment = rent_month[i]\n    \nprint(\"It took\", i, \"repeated executions to get out of this loop purgatory.\")"
        }
    ],
    "metadata": {
        "kernelspec": {
            "display_name": "Python 3.9",
            "language": "python",
            "name": "python3"
        },
        "language_info": {
            "codemirror_mode": {
                "name": "ipython",
                "version": 3
            },
            "file_extension": ".py",
            "mimetype": "text/x-python",
            "name": "python",
            "nbconvert_exporter": "python",
            "pygments_lexer": "ipython3",
            "version": "3.9.7"
        }
    },
    "nbformat": 4,
    "nbformat_minor": 1
}